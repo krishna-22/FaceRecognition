{
 "cells": [
  {
   "cell_type": "code",
   "execution_count": 1,
   "metadata": {},
   "outputs": [],
   "source": [
    "import glob\n",
    "import dlib\n",
    "import cv2\n",
    "import pickle\n",
    "import random\n",
    "import facevec\n",
    "import numpy as np\n",
    "import matplotlib.pyplot as plt\n",
    "%matplotlib inline\n",
    "from sklearn.externals import joblib"
   ]
  },
  {
   "cell_type": "code",
   "execution_count": 2,
   "metadata": {},
   "outputs": [],
   "source": [
    "model = joblib.load('nine.pkl')"
   ]
  },
  {
   "cell_type": "code",
   "execution_count": 3,
   "metadata": {},
   "outputs": [],
   "source": [
    "name = ['saikiran : ', 'sandeep: ','harshita:','mam :','unknown:']"
   ]
  },
  {
   "cell_type": "code",
   "execution_count": 4,
   "metadata": {},
   "outputs": [],
   "source": [
    "font = cv2.FONT_HERSHEY_DUPLEX"
   ]
  },
  {
   "cell_type": "code",
   "execution_count": 12,
   "metadata": {},
   "outputs": [
    {
     "name": "stdout",
     "output_type": "stream",
     "text": [
      "(197, 21, 3)\n",
      "(197, 42, 3)\n",
      "(166, 0, 3)\n",
      "(145, 0, 3)\n",
      "(145, 0, 3)\n",
      "(198, 0, 3)\n",
      "(145, 0, 3)\n",
      "(145, 0, 3)\n",
      "(145, 0, 3)\n",
      "(124, 0, 3)\n",
      "(145, 0, 3)\n",
      "(174, 0, 3)\n",
      "(145, 0, 3)\n",
      "(145, 0, 3)\n",
      "(145, 0, 3)\n",
      "(145, 0, 3)\n",
      "(145, 0, 3)\n",
      "(145, 0, 3)\n",
      "(145, 0, 3)\n",
      "(145, 0, 3)\n",
      "(145, 0, 3)\n"
     ]
    }
   ],
   "source": [
    "cap = cv2.VideoCapture(0)\n",
    "\n",
    "while True:\n",
    "    ret, img = cap.read()\n",
    "    if not ret:\n",
    "        break\n",
    "\n",
    "    #img = cv2.resize(img, (0, 0), fx=0.5, fy=0.5)\n",
    "    faces = facevec.detector(img,1)\n",
    "    \n",
    "    if len(faces) > 0:\n",
    "        for i in range(len(faces)):\n",
    "            \n",
    "            f = faces[i]\n",
    "            shapes = facevec.predictor(img,f)\n",
    "            face_descriptor = facevec.face_model.compute_face_descriptor(img, shapes)\n",
    "            face_descriptor = np.array(face_descriptor)\n",
    "            descriptor = face_descriptor.reshape(1,-1)\n",
    "            #gender = model.predict_proba(descriptor)\n",
    "            \n",
    "            #person = name[gender.argmax()]\n",
    "            #album = gender.argmax()\n",
    "                \n",
    "            \n",
    "            #cv2.rectangle(img,(f.left(), f.top()), (f.right(),f.top()-20),(0,255,0), -1)\n",
    "            cv2.rectangle(img, (f.left(), f.top()), (f.right(), f.bottom()),(0,255,0),1)\n",
    "            crop=img[f.left():f.bottom(),f.right():f.bottom(),:]\n",
    "            print(crop.shape)\n",
    "            cv2.imwrite('kk.png',crop)\n",
    "            #cv2.putText(img,   person +\n",
    "                        #str(99)+'%', (f.left(),f.top()), font, 0.5, (255,255,255), 0)\n",
    "\n",
    "\n",
    "    cv2.imshow('image',img)\n",
    "    if cv2.waitKey(1) == 27:\n",
    "        break\n",
    "        \n",
    "cap.release()\n",
    "cv2.destroyAllWindows()"
   ]
  },
  {
   "cell_type": "code",
   "execution_count": 6,
   "metadata": {},
   "outputs": [],
   "source": [
    "cap.release()\n",
    "cv2.destroyAllWindows()"
   ]
  },
  {
   "cell_type": "code",
   "execution_count": 8,
   "metadata": {},
   "outputs": [
    {
     "data": {
      "text/plain": [
       "True"
      ]
     },
     "execution_count": 8,
     "metadata": {},
     "output_type": "execute_result"
    }
   ],
   "source": [
    "cv2.imwrite('Raghu.png',img)"
   ]
  },
  {
   "cell_type": "code",
   "execution_count": null,
   "metadata": {},
   "outputs": [],
   "source": []
  }
 ],
 "metadata": {
  "kernelspec": {
   "display_name": "Python 3",
   "language": "python",
   "name": "python3"
  },
  "language_info": {
   "codemirror_mode": {
    "name": "ipython",
    "version": 3
   },
   "file_extension": ".py",
   "mimetype": "text/x-python",
   "name": "python",
   "nbconvert_exporter": "python",
   "pygments_lexer": "ipython3",
   "version": "3.6.5"
  }
 },
 "nbformat": 4,
 "nbformat_minor": 2
}
