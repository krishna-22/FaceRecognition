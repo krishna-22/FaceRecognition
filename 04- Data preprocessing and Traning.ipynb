{
 "cells": [
  {
   "cell_type": "markdown",
   "metadata": {},
   "source": [
    "# Face Recognition"
   ]
  },
  {
   "cell_type": "markdown",
   "metadata": {},
   "source": [
    "**Step-1 importing libraries**"
   ]
  },
  {
   "cell_type": "code",
   "execution_count": 1,
   "metadata": {},
   "outputs": [],
   "source": [
    "import glob\n",
    "import dlib\n",
    "import cv2\n",
    "import pickle\n",
    "import random\n",
    "import facevec\n",
    "import numpy as np\n",
    "import matplotlib.pyplot as plt\n",
    "%matplotlib inline\n",
    "from imutils import face_utils\n"
   ]
  },
  {
   "cell_type": "code",
   "execution_count": 2,
   "metadata": {},
   "outputs": [],
   "source": [
    "def adjust_gamma(input_image, gamma=1.0):\n",
    "    table = np.array([((iteration / 255.0) ** (1.0 / gamma)) * 255\n",
    "                      for iteration in np.arange(0, 256)]).astype(\"uint8\")\n",
    "    return cv2.LUT(input_image, table)"
   ]
  },
  {
   "cell_type": "code",
   "execution_count": 3,
   "metadata": {},
   "outputs": [],
   "source": [
    "def read_image(path, gamma=0.75):\n",
    "    output = cv2.imread(path)\n",
    "    return adjust_gamma(output, gamma=gamma)"
   ]
  },
  {
   "cell_type": "code",
   "execution_count": 4,
   "metadata": {},
   "outputs": [],
   "source": [
    "def face_vector(input_image):\n",
    "    faces = facevec.detector(input_image, 1)\n",
    "    faces\n",
    "    if not faces:\n",
    "        return None\n",
    "\n",
    "    f = faces[0]\n",
    "    shape = facevec.predictor(input_image, f)\n",
    "    face_descriptor = facevec.face_model.compute_face_descriptor(input_image, shape)\n",
    "    print(face_descripter)\n",
    "    return face_descriptor"
   ]
  },
  {
   "cell_type": "code",
   "execution_count": 5,
   "metadata": {},
   "outputs": [],
   "source": [
    "sai=0\n",
    "san=1\n",
    "har=2\n",
    "mam=3\n",
    "un=4"
   ]
  },
  {
   "cell_type": "code",
   "execution_count": 29,
   "metadata": {},
   "outputs": [
    {
     "name": "stdout",
     "output_type": "stream",
     "text": [
      "Retrieving Male images ...\n",
      "Retrieved 128 faces !\n",
      "Retrieving feMale images ...\n",
      "Retrieved 184 faces !\n",
      "Retrieving Male images ...\n",
      "Retrieved 69 faces !\n",
      "Retrieving female images ...\n",
      "Retrieved 62 faces !\n",
      "Retrieving Male images ...\n",
      "Retrieved 26 faces !\n",
      "Retrieving feMale images ...\n",
      "Retrieved 43 faces !\n",
      "Retrieving sai images ...\n",
      "Retrieved 30 faces !\n",
      "Retrieving san images ...\n",
      "Retrieved 31 faces !\n",
      "Retrieving har images ...\n",
      "Retrieved 32 faces !\n",
      "Retrieving Mam images ...\n",
      "Retrieved 33 faces !\n"
     ]
    }
   ],
   "source": [
    "print(\"Retrieving Male images ...\")\n",
    "sub9 = glob.glob(\"./newm/*.jpg\")\n",
    "print(\"Retrieved {} faces !\".format(len(sub9)))\n",
    "\n",
    "print(\"Retrieving feMale images ...\")\n",
    "sub10 = glob.glob(\"./newf/*.jpg\")\n",
    "print(\"Retrieved {} faces !\".format(len(sub10)))\n",
    "\n",
    "print(\"Retrieving Male images ...\")\n",
    "sub5 = glob.glob(\"./data/face_data/male/*.png\")\n",
    "print(\"Retrieved {} faces !\".format(len(sub5)))\n",
    "\n",
    "\n",
    "print(\"Retrieving female images ...\")\n",
    "sub6 = glob.glob(\"./data/face_data/female/*.png\")\n",
    "print(\"Retrieved {} faces !\".format(len(sub6)))\n",
    "\n",
    "print(\"Retrieving Male images ...\")\n",
    "sub7= glob.glob(\"./mal/*.jpg\")\n",
    "print(\"Retrieved {} faces !\".format(len(sub7)))\n",
    "\n",
    "print(\"Retrieving feMale images ...\")\n",
    "sub8 = glob.glob(\"./fem/*.jpg\")\n",
    "print(\"Retrieved {} faces !\".format(len(sub8)))\n",
    "subb=sub6+sub7+sub8+sub5+sub9+sub10\n",
    "\n",
    "print(\"Retrieving sai images ...\")\n",
    "sub1 = glob.glob(\"./sai/*.jpg\")\n",
    "print(\"Retrieved {} faces !\".format(len(sub1)))\n",
    "\n",
    "print(\"Retrieving san images ...\")\n",
    "sub2 = glob.glob(\"./san/*.jpg\")\n",
    "print(\"Retrieved {} faces !\".format(len(sub2)))\n",
    "\n",
    "print(\"Retrieving har images ...\")\n",
    "sub3 = glob.glob(\"./har/*.jpg\")\n",
    "print(\"Retrieved {} faces !\".format(len(sub3)))\n",
    "\n",
    "print(\"Retrieving Mam images ...\")\n",
    "sub4 = glob.glob(\"./mam/*.jpg\")\n",
    "print(\"Retrieved {} faces !\".format(len(sub4)))\n"
   ]
  },
  {
   "cell_type": "code",
   "execution_count": 30,
   "metadata": {},
   "outputs": [],
   "source": [
    "vectors = dlib.vectors()\n",
    "labels = dlib.array()"
   ]
  },
  {
   "cell_type": "code",
   "execution_count": 31,
   "metadata": {
    "scrolled": true
   },
   "outputs": [
    {
     "name": "stdout",
     "output_type": "stream",
     "text": [
      "Reading un images ...\n",
      "Reading 0 of 512\n",
      "Reading 1 of 512\n",
      "Reading 2 of 512\n",
      "Reading 3 of 512\n",
      "Reading 4 of 512\n",
      "Reading 5 of 512\n",
      "Reading 6 of 512\n",
      "Reading 7 of 512\n",
      "Reading 8 of 512\n",
      "Reading 9 of 512\n",
      "Reading 10 of 512\n",
      "Reading 11 of 512\n",
      "Reading 12 of 512\n",
      "Reading 13 of 512\n",
      "Reading 14 of 512\n",
      "Reading 15 of 512\n",
      "Reading 16 of 512\n",
      "Reading 17 of 512\n",
      "Reading 18 of 512\n",
      "Reading 19 of 512\n",
      "Reading 20 of 512\n",
      "Reading 21 of 512\n",
      "Reading 22 of 512\n",
      "Reading 23 of 512\n",
      "Reading 24 of 512\n",
      "Reading 25 of 512\n",
      "Reading 26 of 512\n",
      "Reading 27 of 512\n",
      "Reading 28 of 512\n",
      "Reading 29 of 512\n",
      "Reading 30 of 512\n",
      "Reading 31 of 512\n",
      "Reading 32 of 512\n",
      "Reading 33 of 512\n",
      "Reading 34 of 512\n",
      "Reading 35 of 512\n",
      "Reading 36 of 512\n",
      "Reading 37 of 512\n",
      "Reading 38 of 512\n",
      "Reading 39 of 512\n",
      "Reading 40 of 512\n",
      "Reading 41 of 512\n",
      "Reading 42 of 512\n",
      "Reading 43 of 512\n",
      "Reading 44 of 512\n",
      "Reading 45 of 512\n",
      "Reading 46 of 512\n",
      "Reading 47 of 512\n",
      "Reading 48 of 512\n",
      "Reading 49 of 512\n",
      "Reading 50 of 512\n",
      "Reading 51 of 512\n",
      "Reading 52 of 512\n",
      "Reading 53 of 512\n",
      "Reading 54 of 512\n",
      "Reading 55 of 512\n",
      "Reading 56 of 512\n",
      "Reading 57 of 512\n",
      "Reading 58 of 512\n",
      "Reading 59 of 512\n",
      "Reading 60 of 512\n",
      "Reading 61 of 512\n",
      "Reading 62 of 512\n",
      "Reading 63 of 512\n",
      "Reading 64 of 512\n",
      "Reading 65 of 512\n",
      "Reading 66 of 512\n",
      "Reading 67 of 512\n",
      "Reading 68 of 512\n",
      "Reading 69 of 512\n",
      "Reading 70 of 512\n",
      "Reading 71 of 512\n",
      "Reading 72 of 512\n",
      "Reading 73 of 512\n",
      "Reading 74 of 512\n",
      "Reading 75 of 512\n",
      "Reading 76 of 512\n",
      "Reading 77 of 512\n",
      "Reading 78 of 512\n",
      "Reading 79 of 512\n",
      "Reading 80 of 512\n",
      "Reading 81 of 512\n",
      "Reading 82 of 512\n",
      "Reading 83 of 512\n",
      "Reading 84 of 512\n",
      "Reading 85 of 512\n",
      "Reading 86 of 512\n",
      "Reading 87 of 512\n",
      "Reading 88 of 512\n",
      "Reading 89 of 512\n",
      "Reading 90 of 512\n",
      "Reading 91 of 512\n",
      "Reading 92 of 512\n",
      "Reading 93 of 512\n",
      "Reading 94 of 512\n",
      "Reading 95 of 512\n",
      "Reading 96 of 512\n",
      "Reading 97 of 512\n",
      "Reading 98 of 512\n",
      "Reading 99 of 512\n",
      "Reading 100 of 512\n",
      "Reading 101 of 512\n",
      "Reading 102 of 512\n",
      "Reading 103 of 512\n",
      "Reading 104 of 512\n",
      "Reading 105 of 512\n",
      "Reading 106 of 512\n",
      "Reading 107 of 512\n",
      "Reading 108 of 512\n",
      "Reading 109 of 512\n",
      "Reading 110 of 512\n",
      "Reading 111 of 512\n",
      "Reading 112 of 512\n",
      "Reading 113 of 512\n",
      "Reading 114 of 512\n",
      "Reading 115 of 512\n",
      "Reading 116 of 512\n",
      "Reading 117 of 512\n",
      "Reading 118 of 512\n",
      "Reading 119 of 512\n",
      "Reading 120 of 512\n",
      "Reading 121 of 512\n",
      "Reading 122 of 512\n",
      "Reading 123 of 512\n",
      "Reading 124 of 512\n",
      "Reading 125 of 512\n",
      "Reading 126 of 512\n",
      "Reading 127 of 512\n",
      "Reading 128 of 512\n",
      "Reading 129 of 512\n",
      "Reading 130 of 512\n",
      "Reading 131 of 512\n",
      "Reading 132 of 512\n",
      "Reading 133 of 512\n",
      "Reading 134 of 512\n",
      "Reading 135 of 512\n",
      "Reading 136 of 512\n",
      "Reading 137 of 512\n",
      "Reading 138 of 512\n",
      "Reading 139 of 512\n",
      "Reading 140 of 512\n",
      "Reading 141 of 512\n",
      "Reading 142 of 512\n",
      "Reading 143 of 512\n",
      "Reading 144 of 512\n",
      "Reading 145 of 512\n",
      "Reading 146 of 512\n",
      "Reading 147 of 512\n",
      "Reading 148 of 512\n",
      "Reading 149 of 512\n",
      "Reading 150 of 512\n",
      "Reading 151 of 512\n",
      "Reading 152 of 512\n",
      "Reading 153 of 512\n",
      "Reading 154 of 512\n",
      "Reading 155 of 512\n",
      "Reading 156 of 512\n",
      "Reading 157 of 512\n",
      "Reading 158 of 512\n",
      "Reading 159 of 512\n",
      "Reading 160 of 512\n",
      "Reading 161 of 512\n",
      "Reading 162 of 512\n",
      "Reading 163 of 512\n",
      "Reading 164 of 512\n",
      "Reading 165 of 512\n",
      "Reading 166 of 512\n",
      "Reading 167 of 512\n",
      "Reading 168 of 512\n",
      "Reading 169 of 512\n",
      "Reading 170 of 512\n",
      "Reading 171 of 512\n",
      "Reading 172 of 512\n",
      "Reading 173 of 512\n",
      "Reading 174 of 512\n",
      "Reading 175 of 512\n",
      "Reading 176 of 512\n",
      "Reading 177 of 512\n",
      "Reading 178 of 512\n",
      "Reading 179 of 512\n",
      "Reading 180 of 512\n",
      "Reading 181 of 512\n",
      "Reading 182 of 512\n",
      "Reading 183 of 512\n",
      "Reading 184 of 512\n",
      "Reading 185 of 512\n",
      "Reading 186 of 512\n",
      "Reading 187 of 512\n",
      "Reading 188 of 512\n",
      "Reading 189 of 512\n",
      "Reading 190 of 512\n",
      "Reading 191 of 512\n",
      "Reading 192 of 512\n",
      "Reading 193 of 512\n",
      "Reading 194 of 512\n",
      "Reading 195 of 512\n",
      "Reading 196 of 512\n",
      "Reading 197 of 512\n",
      "Reading 198 of 512\n",
      "Reading 199 of 512\n",
      "Reading 200 of 512\n",
      "Reading 201 of 512\n",
      "Reading 202 of 512\n",
      "Reading 203 of 512\n",
      "Reading 204 of 512\n",
      "Reading 205 of 512\n",
      "Reading 206 of 512\n",
      "Reading 207 of 512\n",
      "Reading 208 of 512\n",
      "Reading 209 of 512\n",
      "Reading 210 of 512\n",
      "Reading 211 of 512\n",
      "Reading 212 of 512\n",
      "Reading 213 of 512\n",
      "Reading 214 of 512\n",
      "Reading 215 of 512\n",
      "Reading 216 of 512\n",
      "Reading 217 of 512\n",
      "Reading 218 of 512\n",
      "Reading 219 of 512\n",
      "Reading 220 of 512\n",
      "Reading 221 of 512\n",
      "Reading 222 of 512\n",
      "Reading 223 of 512\n",
      "Reading 224 of 512\n",
      "Reading 225 of 512\n",
      "Reading 226 of 512\n",
      "Reading 227 of 512\n",
      "Reading 228 of 512\n",
      "Reading 229 of 512\n",
      "Reading 230 of 512\n",
      "Reading 231 of 512\n",
      "Reading 232 of 512\n",
      "Reading 233 of 512\n",
      "Reading 234 of 512\n",
      "Reading 235 of 512\n",
      "Reading 236 of 512\n",
      "Reading 237 of 512\n",
      "Reading 238 of 512\n",
      "Reading 239 of 512\n",
      "Reading 240 of 512\n",
      "Reading 241 of 512\n",
      "Reading 242 of 512\n",
      "Reading 243 of 512\n",
      "Reading 244 of 512\n",
      "Reading 245 of 512\n",
      "Reading 246 of 512\n",
      "Reading 247 of 512\n",
      "Reading 248 of 512\n",
      "Reading 249 of 512\n",
      "Reading 250 of 512\n",
      "Reading 251 of 512\n",
      "Reading 252 of 512\n",
      "Reading 253 of 512\n",
      "Reading 254 of 512\n",
      "Reading 255 of 512\n",
      "Reading 256 of 512\n",
      "Reading 257 of 512\n",
      "Reading 258 of 512\n",
      "Reading 259 of 512\n",
      "Reading 260 of 512\n",
      "Reading 261 of 512\n",
      "Reading 262 of 512\n",
      "Reading 263 of 512\n",
      "Reading 264 of 512\n",
      "Reading 265 of 512\n",
      "Reading 266 of 512\n",
      "Reading 267 of 512\n",
      "Reading 268 of 512\n",
      "Reading 269 of 512\n",
      "Reading 270 of 512\n",
      "Reading 271 of 512\n",
      "Reading 272 of 512\n",
      "Reading 273 of 512\n",
      "Reading 274 of 512\n",
      "Reading 275 of 512\n",
      "Reading 276 of 512\n",
      "Reading 277 of 512\n",
      "Reading 278 of 512\n",
      "Reading 279 of 512\n",
      "Reading 280 of 512\n",
      "Reading 281 of 512\n",
      "Reading 282 of 512\n",
      "Reading 283 of 512\n",
      "Reading 284 of 512\n",
      "Reading 285 of 512\n",
      "Reading 286 of 512\n",
      "Reading 287 of 512\n",
      "Reading 288 of 512\n",
      "Reading 289 of 512\n",
      "Reading 290 of 512\n",
      "Reading 291 of 512\n",
      "Reading 292 of 512\n",
      "Reading 293 of 512\n",
      "Reading 294 of 512\n",
      "Reading 295 of 512\n",
      "Reading 296 of 512\n",
      "Reading 297 of 512\n",
      "Reading 298 of 512\n",
      "Reading 299 of 512\n",
      "Reading 300 of 512\n",
      "Reading 301 of 512\n",
      "Reading 302 of 512\n",
      "Reading 303 of 512\n",
      "Reading 304 of 512\n",
      "Reading 305 of 512\n",
      "Reading 306 of 512\n",
      "Reading 307 of 512\n",
      "Reading 308 of 512\n",
      "Reading 309 of 512\n",
      "Reading 310 of 512\n",
      "Reading 311 of 512\n",
      "Reading 312 of 512\n",
      "Reading 313 of 512\n",
      "Reading 314 of 512\n",
      "Reading 315 of 512\n",
      "Reading 316 of 512\n",
      "Reading 317 of 512\n",
      "Reading 318 of 512\n",
      "Reading 319 of 512\n",
      "Reading 320 of 512\n",
      "Reading 321 of 512\n",
      "Reading 322 of 512\n",
      "Reading 323 of 512\n",
      "Reading 324 of 512\n",
      "Reading 325 of 512\n",
      "Reading 326 of 512\n",
      "Reading 327 of 512\n",
      "Reading 328 of 512\n",
      "Reading 329 of 512\n",
      "Reading 330 of 512\n",
      "Reading 331 of 512\n",
      "Reading 332 of 512\n",
      "Reading 333 of 512\n",
      "Reading 334 of 512\n",
      "Reading 335 of 512\n",
      "Reading 336 of 512\n",
      "Reading 337 of 512\n",
      "Reading 338 of 512\n",
      "Reading 339 of 512\n",
      "Reading 340 of 512\n",
      "Reading 341 of 512\n",
      "Reading 342 of 512\n",
      "Reading 343 of 512\n",
      "Reading 344 of 512\n",
      "Reading 345 of 512\n",
      "Reading 346 of 512\n",
      "Reading 347 of 512\n",
      "Reading 348 of 512\n",
      "Reading 349 of 512\n",
      "Reading 350 of 512\n",
      "Reading 351 of 512\n",
      "Reading 352 of 512\n",
      "Reading 353 of 512\n",
      "Reading 354 of 512\n",
      "Reading 355 of 512\n",
      "Reading 356 of 512\n",
      "Reading 357 of 512\n",
      "Reading 358 of 512\n",
      "Reading 359 of 512\n",
      "Reading 360 of 512\n",
      "Reading 361 of 512\n",
      "Reading 362 of 512\n",
      "Reading 363 of 512\n",
      "Reading 364 of 512\n",
      "Reading 365 of 512\n",
      "Reading 366 of 512\n",
      "Reading 367 of 512\n",
      "Reading 368 of 512\n",
      "Reading 369 of 512\n",
      "Reading 370 of 512\n",
      "Reading 371 of 512\n",
      "Reading 372 of 512\n",
      "Reading 373 of 512\n",
      "Reading 374 of 512\n",
      "Reading 375 of 512\n",
      "Reading 376 of 512\n",
      "Reading 377 of 512\n",
      "Reading 378 of 512\n",
      "Reading 379 of 512\n",
      "Reading 380 of 512\n",
      "Reading 381 of 512\n",
      "Reading 382 of 512\n",
      "Reading 383 of 512\n",
      "Reading 384 of 512\n",
      "Reading 385 of 512\n",
      "Reading 386 of 512\n",
      "Reading 387 of 512\n",
      "Reading 388 of 512\n",
      "Reading 389 of 512\n",
      "Reading 390 of 512\n",
      "Reading 391 of 512\n",
      "Reading 392 of 512\n",
      "Reading 393 of 512\n",
      "Reading 394 of 512\n",
      "Reading 395 of 512\n",
      "Reading 396 of 512\n",
      "Reading 397 of 512\n",
      "Reading 398 of 512\n",
      "Reading 399 of 512\n",
      "Reading 400 of 512\n",
      "Reading 401 of 512\n",
      "Reading 402 of 512\n",
      "Reading 403 of 512\n",
      "Reading 404 of 512\n",
      "Reading 405 of 512\n",
      "Reading 406 of 512\n",
      "Reading 407 of 512\n",
      "Reading 408 of 512\n",
      "Reading 409 of 512\n",
      "Reading 410 of 512\n",
      "Reading 411 of 512\n",
      "Reading 412 of 512\n",
      "Reading 413 of 512\n",
      "Reading 414 of 512\n",
      "Reading 415 of 512\n",
      "Reading 416 of 512\n",
      "Reading 417 of 512\n",
      "Reading 418 of 512\n",
      "Reading 419 of 512\n",
      "Reading 420 of 512\n",
      "Reading 421 of 512\n",
      "Reading 422 of 512\n",
      "Reading 423 of 512\n",
      "Reading 424 of 512\n",
      "Reading 425 of 512\n",
      "Reading 426 of 512\n",
      "Reading 427 of 512\n",
      "Reading 428 of 512\n",
      "Reading 429 of 512\n",
      "Reading 430 of 512\n",
      "Reading 431 of 512\n",
      "Reading 432 of 512\n",
      "Reading 433 of 512\n",
      "Reading 434 of 512\n",
      "Reading 435 of 512\n"
     ]
    },
    {
     "name": "stdout",
     "output_type": "stream",
     "text": [
      "Reading 436 of 512\n",
      "Reading 437 of 512\n",
      "Reading 438 of 512\n",
      "Reading 439 of 512\n",
      "Reading 440 of 512\n",
      "Reading 441 of 512\n",
      "Reading 442 of 512\n",
      "Reading 443 of 512\n",
      "Reading 444 of 512\n",
      "Reading 445 of 512\n",
      "Reading 446 of 512\n",
      "Reading 447 of 512\n",
      "Reading 448 of 512\n",
      "Reading 449 of 512\n",
      "Reading 450 of 512\n",
      "Reading 451 of 512\n",
      "Reading 452 of 512\n",
      "Reading 453 of 512\n",
      "Reading 454 of 512\n",
      "Reading 455 of 512\n",
      "Reading 456 of 512\n",
      "Reading 457 of 512\n",
      "Reading 458 of 512\n",
      "Reading 459 of 512\n",
      "Reading 460 of 512\n",
      "Reading 461 of 512\n",
      "Reading 462 of 512\n",
      "Reading 463 of 512\n",
      "Reading 464 of 512\n",
      "Reading 465 of 512\n",
      "Reading 466 of 512\n",
      "Reading 467 of 512\n",
      "Reading 468 of 512\n",
      "Reading 469 of 512\n",
      "Reading 470 of 512\n",
      "Reading 471 of 512\n",
      "Reading 472 of 512\n",
      "Reading 473 of 512\n",
      "Reading 474 of 512\n",
      "Reading 475 of 512\n",
      "Reading 476 of 512\n",
      "Reading 477 of 512\n",
      "Reading 478 of 512\n",
      "Reading 479 of 512\n",
      "Reading 480 of 512\n",
      "Reading 481 of 512\n",
      "Reading 482 of 512\n",
      "Reading 483 of 512\n",
      "Reading 484 of 512\n",
      "Reading 485 of 512\n",
      "Reading 486 of 512\n",
      "Reading 487 of 512\n",
      "Reading 488 of 512\n",
      "Reading 489 of 512\n",
      "Reading 490 of 512\n",
      "Reading 491 of 512\n",
      "Reading 492 of 512\n",
      "Reading 493 of 512\n",
      "Reading 494 of 512\n",
      "Reading 495 of 512\n",
      "Reading 496 of 512\n",
      "Reading 497 of 512\n",
      "Reading 498 of 512\n",
      "Reading 499 of 512\n",
      "Reading 500 of 512\n",
      "Reading 501 of 512\n",
      "Reading 502 of 512\n",
      "Reading 503 of 512\n",
      "Reading 504 of 512\n",
      "Reading 505 of 512\n",
      "Reading 506 of 512\n",
      "Reading 507 of 512\n",
      "Reading 508 of 512\n",
      "Reading 509 of 512\n",
      "Reading 510 of 512\n",
      "Reading 511 of 512\n"
     ]
    }
   ],
   "source": [
    "print(\"Reading un images ...\")\n",
    "for i, sub in enumerate(subb):\n",
    "    print(\"Reading {} of {}\\r\".format(i, len(subb)))\n",
    "    face_vectors = face_vector(read_image(sub))\n",
    "    if face_vectors is None:\n",
    "        continue\n",
    "    vectors.append(dlib.vector(face_vectors))\n",
    "    labels.append(un)"
   ]
  },
  {
   "cell_type": "code",
   "execution_count": 32,
   "metadata": {
    "scrolled": true
   },
   "outputs": [
    {
     "name": "stdout",
     "output_type": "stream",
     "text": [
      "Reading sai images ...\n",
      "Reading 0 of 30\n",
      "Reading 1 of 30\n",
      "Reading 2 of 30\n",
      "Reading 3 of 30\n",
      "Reading 4 of 30\n",
      "Reading 5 of 30\n",
      "Reading 6 of 30\n",
      "Reading 7 of 30\n",
      "Reading 8 of 30\n",
      "Reading 9 of 30\n",
      "Reading 10 of 30\n",
      "Reading 11 of 30\n",
      "Reading 12 of 30\n",
      "Reading 13 of 30\n",
      "Reading 14 of 30\n",
      "Reading 15 of 30\n",
      "Reading 16 of 30\n",
      "Reading 17 of 30\n",
      "Reading 18 of 30\n",
      "Reading 19 of 30\n",
      "Reading 20 of 30\n",
      "Reading 21 of 30\n",
      "Reading 22 of 30\n",
      "Reading 23 of 30\n",
      "Reading 24 of 30\n",
      "Reading 25 of 30\n",
      "Reading 26 of 30\n",
      "Reading 27 of 30\n",
      "Reading 28 of 30\n",
      "Reading 29 of 30\n"
     ]
    }
   ],
   "source": [
    "print(\"Reading sai images ...\")\n",
    "for i, sub in enumerate(sub1):\n",
    "    print(\"Reading {} of {}\\r\".format(i, len(sub1)))\n",
    "    face_vectors = face_vector(read_image(sub))\n",
    "    if face_vectors is None:\n",
    "        continue\n",
    "    vectors.append(dlib.vector(face_vectors))\n",
    "    labels.append(sai)"
   ]
  },
  {
   "cell_type": "code",
   "execution_count": 33,
   "metadata": {},
   "outputs": [
    {
     "name": "stdout",
     "output_type": "stream",
     "text": [
      "Reading san images ...\n",
      "Reading 0 of 31\n",
      "Reading 1 of 31\n",
      "Reading 2 of 31\n",
      "Reading 3 of 31\n",
      "Reading 4 of 31\n",
      "Reading 5 of 31\n",
      "Reading 6 of 31\n",
      "Reading 7 of 31\n",
      "Reading 8 of 31\n",
      "Reading 9 of 31\n",
      "Reading 10 of 31\n",
      "Reading 11 of 31\n",
      "Reading 12 of 31\n",
      "Reading 13 of 31\n",
      "Reading 14 of 31\n",
      "Reading 15 of 31\n",
      "Reading 16 of 31\n",
      "Reading 17 of 31\n",
      "Reading 18 of 31\n",
      "Reading 19 of 31\n",
      "Reading 20 of 31\n",
      "Reading 21 of 31\n",
      "Reading 22 of 31\n",
      "Reading 23 of 31\n",
      "Reading 24 of 31\n",
      "Reading 25 of 31\n",
      "Reading 26 of 31\n",
      "Reading 27 of 31\n",
      "Reading 28 of 31\n",
      "Reading 29 of 31\n",
      "Reading 30 of 31\n"
     ]
    }
   ],
   "source": [
    "print(\"Reading san images ...\")\n",
    "for i, sub in enumerate(sub2):\n",
    "    print(\"Reading {} of {}\\r\".format(i, len(sub2)))\n",
    "    face_vectors = face_vector(read_image(sub))\n",
    "    if face_vectors is None:\n",
    "        continue\n",
    "    vectors.append(dlib.vector(face_vectors))\n",
    "    labels.append(san)"
   ]
  },
  {
   "cell_type": "code",
   "execution_count": 34,
   "metadata": {},
   "outputs": [
    {
     "name": "stdout",
     "output_type": "stream",
     "text": [
      "Reading har images ...\n",
      "Reading 0 of 32\n",
      "Reading 1 of 32\n",
      "Reading 2 of 32\n",
      "Reading 3 of 32\n",
      "Reading 4 of 32\n",
      "Reading 5 of 32\n",
      "Reading 6 of 32\n",
      "Reading 7 of 32\n",
      "Reading 8 of 32\n",
      "Reading 9 of 32\n",
      "Reading 10 of 32\n",
      "Reading 11 of 32\n",
      "Reading 12 of 32\n",
      "Reading 13 of 32\n",
      "Reading 14 of 32\n",
      "Reading 15 of 32\n",
      "Reading 16 of 32\n",
      "Reading 17 of 32\n",
      "Reading 18 of 32\n",
      "Reading 19 of 32\n",
      "Reading 20 of 32\n",
      "Reading 21 of 32\n",
      "Reading 22 of 32\n",
      "Reading 23 of 32\n",
      "Reading 24 of 32\n",
      "Reading 25 of 32\n",
      "Reading 26 of 32\n",
      "Reading 27 of 32\n",
      "Reading 28 of 32\n",
      "Reading 29 of 32\n",
      "Reading 30 of 32\n",
      "Reading 31 of 32\n"
     ]
    }
   ],
   "source": [
    "print(\"Reading har images ...\")\n",
    "for i, sub in enumerate(sub3):\n",
    "    print(\"Reading {} of {}\\r\".format(i, len(sub3)))\n",
    "    face_vectors = face_vector(read_image(sub))\n",
    "    if face_vectors is None:\n",
    "        continue\n",
    "    vectors.append(dlib.vector(face_vectors))\n",
    "    labels.append(har)"
   ]
  },
  {
   "cell_type": "code",
   "execution_count": 35,
   "metadata": {},
   "outputs": [
    {
     "name": "stdout",
     "output_type": "stream",
     "text": [
      "Reading mam images ...\n",
      "Reading 0 of 33\n",
      "Reading 1 of 33\n",
      "Reading 2 of 33\n",
      "Reading 3 of 33\n",
      "Reading 4 of 33\n",
      "Reading 5 of 33\n",
      "Reading 6 of 33\n",
      "Reading 7 of 33\n",
      "Reading 8 of 33\n",
      "Reading 9 of 33\n",
      "Reading 10 of 33\n",
      "Reading 11 of 33\n",
      "Reading 12 of 33\n",
      "Reading 13 of 33\n",
      "Reading 14 of 33\n",
      "Reading 15 of 33\n",
      "Reading 16 of 33\n",
      "Reading 17 of 33\n",
      "Reading 18 of 33\n",
      "Reading 19 of 33\n",
      "Reading 20 of 33\n",
      "Reading 21 of 33\n",
      "Reading 22 of 33\n",
      "Reading 23 of 33\n",
      "Reading 24 of 33\n",
      "Reading 25 of 33\n",
      "Reading 26 of 33\n",
      "Reading 27 of 33\n",
      "Reading 28 of 33\n",
      "Reading 29 of 33\n",
      "Reading 30 of 33\n",
      "Reading 31 of 33\n",
      "Reading 32 of 33\n"
     ]
    }
   ],
   "source": [
    "print(\"Reading mam images ...\")\n",
    "for i, sub in enumerate(sub4):\n",
    "    print(\"Reading {} of {}\\r\".format(i, len(sub4)))\n",
    "    face_vectors = face_vector(read_image(sub))\n",
    "    if face_vectors is None:\n",
    "        continue\n",
    "    vectors.append(dlib.vector(face_vectors))\n",
    "    labels.append(mam)"
   ]
  },
  {
   "cell_type": "markdown",
   "metadata": {},
   "source": [
    "# Training"
   ]
  },
  {
   "cell_type": "code",
   "execution_count": 13,
   "metadata": {},
   "outputs": [
    {
     "data": {
      "text/plain": [
       "dlib.vectors"
      ]
     },
     "execution_count": 13,
     "metadata": {},
     "output_type": "execute_result"
    }
   ],
   "source": [
    "type(vectors)"
   ]
  },
  {
   "cell_type": "code",
   "execution_count": 36,
   "metadata": {},
   "outputs": [],
   "source": [
    "vec=np.array(vectors)"
   ]
  },
  {
   "cell_type": "code",
   "execution_count": 37,
   "metadata": {},
   "outputs": [],
   "source": [
    "lab = np.array(labels)"
   ]
  },
  {
   "cell_type": "code",
   "execution_count": 16,
   "metadata": {},
   "outputs": [
    {
     "data": {
      "text/plain": [
       "(619, 128)"
      ]
     },
     "execution_count": 16,
     "metadata": {},
     "output_type": "execute_result"
    }
   ],
   "source": [
    "vec.shape"
   ]
  },
  {
   "cell_type": "code",
   "execution_count": 47,
   "metadata": {},
   "outputs": [
    {
     "data": {
      "text/plain": [
       "array([[-0.0819437 ,  0.13491972,  0.08369328, ..., -0.03021732,\n",
       "         0.08681948,  0.00512843],\n",
       "       [-0.08336028,  0.18050578,  0.05608907, ..., -0.08158617,\n",
       "         0.02742665,  0.0102745 ],\n",
       "       [-0.12101562,  0.12448376,  0.10678731, ..., -0.00446699,\n",
       "         0.01554962,  0.07754424],\n",
       "       ..., \n",
       "       [-0.12794411,  0.00473189,  0.07576124, ..., -0.05136537,\n",
       "         0.02316658, -0.01384228],\n",
       "       [-0.13654131,  0.01553618,  0.10099149, ..., -0.04755094,\n",
       "         0.03287518, -0.01338342],\n",
       "       [-0.13891633,  0.01088495,  0.09511811, ..., -0.04075382,\n",
       "         0.03517818, -0.00446519]])"
      ]
     },
     "execution_count": 47,
     "metadata": {},
     "output_type": "execute_result"
    }
   ],
   "source": [
    "vec"
   ]
  },
  {
   "cell_type": "code",
   "execution_count": 48,
   "metadata": {},
   "outputs": [
    {
     "data": {
      "text/plain": [
       "array([ 4.,  4.,  4.,  4.,  4.,  4.,  4.,  4.,  4.,  4.,  4.,  4.,  4.,\n",
       "        4.,  4.,  4.,  4.,  4.,  4.,  4.,  4.,  4.,  4.,  4.,  4.,  4.,\n",
       "        4.,  4.,  4.,  4.,  4.,  4.,  4.,  4.,  4.,  4.,  4.,  4.,  4.,\n",
       "        4.,  4.,  4.,  4.,  4.,  4.,  4.,  4.,  4.,  4.,  4.,  4.,  4.,\n",
       "        4.,  4.,  4.,  4.,  4.,  4.,  4.,  4.,  4.,  4.,  4.,  4.,  4.,\n",
       "        4.,  4.,  4.,  4.,  4.,  4.,  4.,  4.,  4.,  4.,  4.,  4.,  4.,\n",
       "        4.,  4.,  4.,  4.,  4.,  4.,  4.,  4.,  4.,  4.,  4.,  4.,  4.,\n",
       "        4.,  4.,  4.,  4.,  4.,  4.,  4.,  4.,  4.,  4.,  4.,  4.,  4.,\n",
       "        4.,  4.,  4.,  4.,  4.,  4.,  4.,  4.,  4.,  4.,  4.,  4.,  4.,\n",
       "        4.,  4.,  4.,  4.,  4.,  4.,  4.,  4.,  4.,  4.,  4.,  4.,  4.,\n",
       "        4.,  4.,  4.,  4.,  4.,  4.,  4.,  4.,  4.,  4.,  4.,  4.,  4.,\n",
       "        4.,  4.,  4.,  4.,  4.,  4.,  4.,  4.,  4.,  4.,  4.,  4.,  4.,\n",
       "        4.,  4.,  4.,  4.,  4.,  4.,  4.,  4.,  4.,  4.,  4.,  4.,  4.,\n",
       "        4.,  4.,  4.,  4.,  4.,  4.,  4.,  4.,  4.,  4.,  4.,  4.,  4.,\n",
       "        4.,  4.,  4.,  4.,  4.,  4.,  4.,  4.,  4.,  4.,  4.,  4.,  4.,\n",
       "        4.,  4.,  4.,  4.,  4.,  0.,  0.,  0.,  0.,  0.,  0.,  0.,  0.,\n",
       "        0.,  0.,  0.,  0.,  0.,  0.,  0.,  0.,  0.,  0.,  0.,  0.,  0.,\n",
       "        0.,  0.,  0.,  0.,  0.,  0.,  0.,  0.,  0.,  1.,  1.,  1.,  1.,\n",
       "        1.,  1.,  1.,  1.,  1.,  1.,  1.,  1.,  1.,  1.,  1.,  1.,  1.,\n",
       "        1.,  1.,  1.,  1.,  1.,  1.,  1.,  1.,  1.,  1.,  1.,  1.,  1.,\n",
       "        1.,  2.,  2.,  2.,  2.,  2.,  2.,  2.,  2.,  2.,  2.,  2.,  2.,\n",
       "        2.,  2.,  2.,  2.,  2.,  2.,  2.,  2.,  2.,  2.,  2.,  2.,  2.,\n",
       "        2.,  2.,  2.,  2.,  2.,  2.,  2.,  3.,  3.,  3.,  3.,  3.,  3.,\n",
       "        3.,  3.,  3.,  3.,  3.,  3.,  3.,  3.,  3.,  3.,  3.,  3.,  3.,\n",
       "        3.,  3.,  3.,  3.,  3.,  3.,  3.,  3.,  3.,  3.,  3.,  3.,  3.,\n",
       "        3.,  3.,  3.,  3.,  3.,  3.,  3.,  3.,  3.,  3.,  3.,  3.,  3.])"
      ]
     },
     "execution_count": 48,
     "metadata": {},
     "output_type": "execute_result"
    }
   ],
   "source": [
    "lab"
   ]
  },
  {
   "cell_type": "markdown",
   "metadata": {},
   "source": [
    "> **Saving into csv file**"
   ]
  },
  {
   "cell_type": "code",
   "execution_count": 16,
   "metadata": {},
   "outputs": [
    {
     "ename": "NameError",
     "evalue": "name 'X' is not defined",
     "output_type": "error",
     "traceback": [
      "\u001b[1;31m---------------------------------------------------------------------------\u001b[0m",
      "\u001b[1;31mNameError\u001b[0m                                 Traceback (most recent call last)",
      "\u001b[1;32m<ipython-input-16-bc5f1a0adac8>\u001b[0m in \u001b[0;36m<module>\u001b[1;34m()\u001b[0m\n\u001b[1;32m----> 1\u001b[1;33m \u001b[0mX\u001b[0m\u001b[1;33m.\u001b[0m\u001b[0mshape\u001b[0m\u001b[1;33m\u001b[0m\u001b[0m\n\u001b[0m",
      "\u001b[1;31mNameError\u001b[0m: name 'X' is not defined"
     ]
    }
   ],
   "source": [
    "X.shape"
   ]
  },
  {
   "cell_type": "code",
   "execution_count": 38,
   "metadata": {},
   "outputs": [],
   "source": [
    "X = vec\n",
    "y = lab.reshape(-1,1)"
   ]
  },
  {
   "cell_type": "code",
   "execution_count": 50,
   "metadata": {},
   "outputs": [],
   "source": [
    "dataset = np.append(X,y,axis = 1)"
   ]
  },
  {
   "cell_type": "code",
   "execution_count": 51,
   "metadata": {},
   "outputs": [],
   "source": [
    "np.savetxt('face_vectors.csv',dataset,delimiter = ',')"
   ]
  },
  {
   "cell_type": "markdown",
   "metadata": {},
   "source": [
    "> ## Test Train Split"
   ]
  },
  {
   "cell_type": "code",
   "execution_count": 52,
   "metadata": {},
   "outputs": [
    {
     "name": "stderr",
     "output_type": "stream",
     "text": [
      "C:\\Anaconda3\\lib\\site-packages\\sklearn\\cross_validation.py:41: DeprecationWarning: This module was deprecated in version 0.18 in favor of the model_selection module into which all the refactored classes and functions are moved. Also note that the interface of the new CV iterators are different from that of this module. This module will be removed in 0.20.\n",
      "  \"This module will be removed in 0.20.\", DeprecationWarning)\n"
     ]
    }
   ],
   "source": [
    "from sklearn.cross_validation import train_test_split"
   ]
  },
  {
   "cell_type": "code",
   "execution_count": 22,
   "metadata": {},
   "outputs": [],
   "source": [
    "x_train, x_test, y_train, y_test = train_test_split(X,y,test_size = 0.2, random_state = 0)"
   ]
  },
  {
   "cell_type": "markdown",
   "metadata": {},
   "source": [
    "> ## Building Model"
   ]
  },
  {
   "cell_type": "code",
   "execution_count": 39,
   "metadata": {},
   "outputs": [],
   "source": [
    "from sklearn.neighbors import KNeighborsClassifier\n"
   ]
  },
  {
   "cell_type": "code",
   "execution_count": 54,
   "metadata": {},
   "outputs": [],
   "source": [
    "model_knn = KNeighborsClassifier(n_neighbors=5)\n"
   ]
  },
  {
   "cell_type": "code",
   "execution_count": 55,
   "metadata": {},
   "outputs": [
    {
     "name": "stderr",
     "output_type": "stream",
     "text": [
      "C:\\Anaconda3\\lib\\site-packages\\ipykernel_launcher.py:1: DataConversionWarning: A column-vector y was passed when a 1d array was expected. Please change the shape of y to (n_samples, ), for example using ravel().\n",
      "  \"\"\"Entry point for launching an IPython kernel.\n"
     ]
    },
    {
     "data": {
      "text/plain": [
       "KNeighborsClassifier(algorithm='auto', leaf_size=30, metric='minkowski',\n",
       "           metric_params=None, n_jobs=1, n_neighbors=5, p=2,\n",
       "           weights='uniform')"
      ]
     },
     "execution_count": 55,
     "metadata": {},
     "output_type": "execute_result"
    }
   ],
   "source": [
    "model_knn.fit(X, y) # training model\n",
    "\n"
   ]
  },
  {
   "cell_type": "code",
   "execution_count": 26,
   "metadata": {},
   "outputs": [],
   "source": [
    "y_pred_knn = model_knn.predict(x_test) # we use this for evaluation\n"
   ]
  },
  {
   "cell_type": "code",
   "execution_count": 27,
   "metadata": {},
   "outputs": [],
   "source": [
    "from sklearn.metrics import confusion_matrix, classification_report\n"
   ]
  },
  {
   "cell_type": "code",
   "execution_count": 28,
   "metadata": {},
   "outputs": [],
   "source": [
    "cm_knn = confusion_matrix(y_test, y_pred_knn) # confusion matrix\n",
    "\n",
    "\n",
    "cr_knn = classification_report(y_test, y_pred_knn) # classification report"
   ]
  },
  {
   "cell_type": "code",
   "execution_count": 29,
   "metadata": {},
   "outputs": [],
   "source": [
    "import seaborn as sns"
   ]
  },
  {
   "cell_type": "code",
   "execution_count": 30,
   "metadata": {},
   "outputs": [
    {
     "data": {
      "image/png": "[encoded data removed]",
      "text/plain": [
       "<matplotlib.figure.Figure at 0x2b72f40ef0>"
      ]
     },
     "metadata": {},
     "output_type": "display_data"
    }
   ],
   "source": [
    "sns.heatmap(cm_knn,annot=True,cbar=None,cmap = 'summer')\n",
    "plt.title('K Nearest Neighbour')\n",
    "plt.show()"
   ]
  },
  {
   "cell_type": "code",
   "execution_count": 31,
   "metadata": {},
   "outputs": [
    {
     "name": "stdout",
     "output_type": "stream",
     "text": [
      "====================KNearest Neighbour====================\n",
      "             precision    recall  f1-score   support\n",
      "\n",
      "        0.0       0.94      0.94      0.94        18\n",
      "        1.0       0.89      0.89      0.89         9\n",
      "\n",
      "avg / total       0.93      0.93      0.93        27\n",
      "\n"
     ]
    }
   ],
   "source": [
    "print('='*20+'KNearest Neighbour'+'='*20)\n",
    "print(cr_knn)"
   ]
  },
  {
   "cell_type": "code",
   "execution_count": 20,
   "metadata": {},
   "outputs": [],
   "source": [
    "from sklearn.externals import joblib"
   ]
  },
  {
   "cell_type": "code",
   "execution_count": 21,
   "metadata": {},
   "outputs": [
    {
     "data": {
      "text/plain": [
       "['gender_class1.pkl']"
      ]
     },
     "execution_count": 21,
     "metadata": {},
     "output_type": "execute_result"
    }
   ],
   "source": [
    "joblib.dump(model_knn,'alll.pkl')"
   ]
  },
  {
   "cell_type": "code",
   "execution_count": null,
   "metadata": {},
   "outputs": [],
   "source": [
    "\n",
    "\n",
    "\n",
    "\n"
   ]
  }
 ],
 "metadata": {
  "kernelspec": {
   "display_name": "Python 3",
   "language": "python",
   "name": "python3"
  },
  "language_info": {
   "codemirror_mode": {
    "name": "ipython",
    "version": 3
   },
   "file_extension": ".py",
   "mimetype": "text/x-python",
   "name": "python",
   "nbconvert_exporter": "python",
   "pygments_lexer": "ipython3",
   "version": "3.6.5"
  }
 },
 "nbformat": 4,
 "nbformat_minor": 2
}
